{
 "cells": [
  {
   "cell_type": "markdown",
   "metadata": {
    "slideshow": {
     "slide_type": "slide"
    }
   },
   "source": [
    "# Build a \"no internet\" TRex Game\n",
    "\n",
    "![](images/dino-game.png \"Dino\")"
   ]
  },
  {
   "cell_type": "markdown",
   "metadata": {
    "slideshow": {
     "slide_type": "slide"
    }
   },
   "source": [
    "# Define the game\n",
    "\n",
    "A 2D, Side-scrolling, infinite, 1 key control video game. It has two scenes, game and game end."
   ]
  },
  {
   "cell_type": "markdown",
   "metadata": {
    "slideshow": {
     "slide_type": "slide"
    }
   },
   "source": [
    "# Game Loop"
   ]
  },
  {
   "cell_type": "markdown",
   "metadata": {},
   "source": [
    "The game may have multiple round. At the end of game, player can press 'ESC' to quit the game or 'Enter' to do another game."
   ]
  },
  {
   "cell_type": "code",
   "execution_count": null,
   "metadata": {},
   "outputs": [],
   "source": [
    "if __name__ == '__main__':\n",
    "    # setup the screen ....\n",
    "    \n",
    "    while(True):\n",
    "        main_game = TRexGame(window)\n",
    "        score = main_game.start()\n",
    "        if not should_continue(window, score):\n",
    "            break"
   ]
  },
  {
   "cell_type": "code",
   "execution_count": null,
   "metadata": {
    "slideshow": {
     "slide_type": "slide"
    }
   },
   "outputs": [],
   "source": [
    "def should_continue(window, score):\n",
    "    window.clear()\n",
    "    window.border(NO_BORDER)\n",
    "    window.addstr(10, 27, \"  ___   _   __  __ ___    _____   _____ ___ \")\n",
    "    window.addstr(11, 27, \" / __| /_\\ |  \\/  | __|  / _ \\ \\ / / __| _ \\\\\")\n",
    "    window.addstr(12, 27, \"| (_ |/ _ \\| |\\/| | _|  | (_) \\ V /| _||   /\")\n",
    "    window.addstr(13, 27, \" \\___/_/ \\_\\_|  |_|___|  \\___/ \\_/ |___|_|_\\\\\")\n",
    "    window.addstr(15, 27, \"             FINAL_SCORE : \"+str(score))\n",
    "    window.addstr(17, 27, \"Press 'Enter' Key to Restart or 'ESC' to Quit\")\n",
    "    while(True):\n",
    "        key_event = window.getch()\n",
    "        if key_event is KEY_ESC:\n",
    "            return False\n",
    "        elif key_event is KEY_ENTER:\n",
    "            return True"
   ]
  },
  {
   "cell_type": "markdown",
   "metadata": {},
   "source": [
    "## Inner Loop"
   ]
  },
  {
   "cell_type": "markdown",
   "metadata": {
    "slideshow": {
     "slide_type": "slide"
    }
   },
   "source": [
    "# Graphic"
   ]
  },
  {
   "cell_type": "markdown",
   "metadata": {
    "slideshow": {
     "slide_type": "slide"
    }
   },
   "source": [
    "## Sprites / Actors / Game Objects\n",
    "\n",
    "![](images/sprites.png)"
   ]
  },
  {
   "cell_type": "markdown",
   "metadata": {},
   "source": [
    "## Animation"
   ]
  },
  {
   "cell_type": "markdown",
   "metadata": {
    "slideshow": {
     "slide_type": "slide"
    }
   },
   "source": [
    "## Background"
   ]
  },
  {
   "cell_type": "markdown",
   "metadata": {
    "slideshow": {
     "slide_type": "slide"
    }
   },
   "source": [
    "### Parallax scrolling\n",
    "\n",
    "![](images/parallax_scroll.gif \"Parallel Scrolling\")"
   ]
  },
  {
   "cell_type": "markdown",
   "metadata": {},
   "source": [
    "# Control"
   ]
  },
  {
   "cell_type": "markdown",
   "metadata": {},
   "source": [
    "# Scoring"
   ]
  },
  {
   "cell_type": "markdown",
   "metadata": {},
   "source": [
    "# Collision detection "
   ]
  },
  {
   "cell_type": "markdown",
   "metadata": {},
   "source": [
    "# Game Plan\n",
    "\n",
    "## Name:\n",
    "## Abstract\n",
    "\n",
    "> .\n",
    ">\n",
    "> .\n",
    "\n",
    "\n",
    "## Game Flow\n",
    "\n",
    "> .\n",
    ">\n",
    "> .\n",
    "\n",
    "## Graphics & Game Objects\n",
    "\n",
    "### Sprites / Actors / Game Objects\n",
    "\n",
    "> .\n",
    ">\n",
    "> .\n",
    "\n",
    "### Background\n",
    "\n",
    "> .\n",
    ">\n",
    "> .\n",
    "\n",
    "## Scoring\n",
    "\n",
    "## Game Screens\n",
    "\n",
    "\n",
    "## Controls\n",
    "\n"
   ]
  },
  {
   "cell_type": "code",
   "execution_count": null,
   "metadata": {},
   "outputs": [],
   "source": []
  }
 ],
 "metadata": {
  "celltoolbar": "Slideshow",
  "kernelspec": {
   "display_name": "Python 3",
   "language": "python",
   "name": "python3"
  },
  "language_info": {
   "codemirror_mode": {
    "name": "ipython",
    "version": 3
   },
   "file_extension": ".py",
   "mimetype": "text/x-python",
   "name": "python",
   "nbconvert_exporter": "python",
   "pygments_lexer": "ipython3",
   "version": "3.7.6"
  }
 },
 "nbformat": 4,
 "nbformat_minor": 2
}
