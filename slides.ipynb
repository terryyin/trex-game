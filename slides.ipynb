{
 "cells": [
  {
   "cell_type": "markdown",
   "metadata": {
    "slideshow": {
     "slide_type": "slide"
    }
   },
   "source": [
    "# Build a \"no internet\" TRex Game\n",
    "\n",
    "![](images/dino-game.png \"Dino\")\n",
    "\n",
    "https://github.com/terryyin/trex-game\n",
    "\n",
    "Open it with https://repl.it"
   ]
  },
  {
   "cell_type": "markdown",
   "metadata": {
    "slideshow": {
     "slide_type": "slide"
    }
   },
   "source": [
    "# Define the game\n",
    "\n",
    "A 2D, Side-scrolling, infinite, 1 key control video game. It has two scenes, game and game end."
   ]
  },
  {
   "cell_type": "markdown",
   "metadata": {
    "slideshow": {
     "slide_type": "slide"
    }
   },
   "source": [
    "# Game Loop"
   ]
  },
  {
   "cell_type": "markdown",
   "metadata": {},
   "source": [
    "The game may have multiple rounds. At the end of the game, player can press 'ESC' to quit the game or 'Enter' to do another round."
   ]
  },
  {
   "cell_type": "code",
   "execution_count": null,
   "metadata": {},
   "outputs": [],
   "source": [
    "if __name__ == '__main__':\n",
    "    # setup the screen ....\n",
    "    \n",
    "    while(True):\n",
    "        main_game = TRexGame(window)\n",
    "        main_game.start()\n",
    "        if not main_game.should_continue():\n",
    "            break"
   ]
  },
  {
   "cell_type": "code",
   "execution_count": null,
   "metadata": {
    "slideshow": {
     "slide_type": "slide"
    }
   },
   "outputs": [],
   "source": [
    "    def should_continue(self):\n",
    "        self.window.clear()\n",
    "        self.window.border(NO_BORDER)\n",
    "        self.draw_at(10, 27, [\n",
    "            \"  ___   _   __  __ ___    _____   _____ ___ \",\n",
    "            \" / __| /_\\ |  \\/  | __|  / _ \\ \\ / / __| _ \\\\\",\n",
    "            \"| (_ |/ _ \\| |\\/| | _|  | (_) \\ V /| _||   /\",\n",
    "            \" \\___/_/ \\_\\_|  |_|___|  \\___/ \\_/ |___|_|_\\\\\",\n",
    "            \"\",\n",
    "            \"             FINAL_SCORE : \"+str(self.score),\n",
    "            \"\",\n",
    "            \"Press 'Enter' Key to Restart or 'ESC' to Quit\"\n",
    "        ])\n",
    "        while(True):\n",
    "            key_event = self.window.getch()\n",
    "            if key_event is KEY_ESC:\n",
    "                return False\n",
    "            elif key_event is KEY_ENTER:\n",
    "                return True"
   ]
  },
  {
   "cell_type": "markdown",
   "metadata": {
    "slideshow": {
     "slide_type": "slide"
    }
   },
   "source": [
    "# Graphics"
   ]
  },
  {
   "cell_type": "markdown",
   "metadata": {
    "slideshow": {
     "slide_type": "slide"
    }
   },
   "source": [
    "## FPS - Frame Per Second\n",
    "\n",
    "FPS means how many images (frames) the computer can render. Higher FPS makes the game feel more real, but it needs more CPU power. \n",
    "\n",
    "From the code in the `TRexGame::start` method, can you tell what is our game's FPS?"
   ]
  },
  {
   "cell_type": "code",
   "execution_count": null,
   "metadata": {},
   "outputs": [],
   "source": [
    "class TRexGame:\n",
    "    def start(self, window):\n",
    "        while(not self.is_end_of_game()):\n",
    "            self.handle_controls()\n",
    "            self.update_all()\n",
    "            self.draw_all()\n",
    "            sleep(0.06)\n",
    "        sleep(2)\n",
    "        return self.score"
   ]
  },
  {
   "cell_type": "markdown",
   "metadata": {
    "slideshow": {
     "slide_type": "slide"
    }
   },
   "source": [
    "Each object is rendered separately. The order of the rendering (drawing) migtht be important.\n",
    "\n",
    "In some more complicated game, re-rendering everything everytime could be very costly. You will need to find more smart way to re-draw only the part that is changed."
   ]
  },
  {
   "cell_type": "code",
   "execution_count": null,
   "metadata": {
    "slideshow": {
     "slide_type": "-"
    }
   },
   "outputs": [],
   "source": [
    "    def draw_all(self):\n",
    "        window.clear()\n",
    "        self.cloud.draw()\n",
    "        self.ground.draw()\n",
    "        self.cacti.draw()\n",
    "        self.trex.draw()\n",
    "        self.draw_score()"
   ]
  },
  {
   "cell_type": "markdown",
   "metadata": {
    "slideshow": {
     "slide_type": "slide"
    }
   },
   "source": [
    "## Sprites / Actors / Game Objects\n",
    "\n",
    "In computer graphics, a sprite is a two-dimensional bitmap that is integrated into a larger scene, most often in a 2D video game. \n",
    "\n",
    "![](images/sprites.png)"
   ]
  },
  {
   "cell_type": "markdown",
   "metadata": {
    "slideshow": {
     "slide_type": "slide"
    }
   },
   "source": [
    "Our Sprites (`sprites.py`):"
   ]
  },
  {
   "cell_type": "code",
   "execution_count": null,
   "metadata": {},
   "outputs": [],
   "source": [
    "TREX_SPRITES = [\n",
    "    [ # stride\n",
    "        \"   =o===\",\n",
    "        \"   ==www\",\n",
    "        \", |||-\",\n",
    "        \"\\||||\",\n",
    "        \"  / \\\\\",\n",
    "    ],\n",
    "    [ # legs closed\n",
    "        \"   =o===\",\n",
    "        \"   ==www\",\n",
    "        \", |||-\",\n",
    "        \"\\||||\",\n",
    "        \"  \\ /\"\n",
    "    ],\n",
    "    [ # jumping\n",
    "        \"   =-===\",\n",
    "        \"   ==www\",\n",
    "        \", |||-\",\n",
    "        \"\\||||\",\n",
    "        \"  L L\"\n",
    "    ],\n",
    "    [ # dead\n",
    "        \"   =X===\",\n",
    "        \"   ==www\",\n",
    "        \", |||-\",\n",
    "        \"\\||||\",\n",
    "        \"  L L\"\n",
    "    ]\n",
    "]"
   ]
  },
  {
   "cell_type": "markdown",
   "metadata": {
    "slideshow": {
     "slide_type": "slide"
    }
   },
   "source": [
    "## Animation\n",
    "\n",
    "Before each frame, or base on time, the state of all the game objects are updated. After the states are updated, the objects are rendered again according to the new state.\n",
    "\n",
    "**Advice: one thing at a time.**\n",
    "\n",
    "* Don't render when update states (data)\n",
    "* Don't change states when rendering\n",
    "* Keep the code separate"
   ]
  },
  {
   "cell_type": "code",
   "execution_count": null,
   "metadata": {},
   "outputs": [],
   "source": [
    "class TRexGame:\n",
    "    def update_all(self):\n",
    "        self.score += 1\n",
    "        speed = self.score//200+3\n",
    "        self.ground.update(speed)\n",
    "        self.cacti.update(speed)\n",
    "        self.cloud.update()\n",
    "        self.trex.update()\n",
    "        if self.check_collision():\n",
    "            self.trex.die()"
   ]
  },
  {
   "cell_type": "markdown",
   "metadata": {
    "slideshow": {
     "slide_type": "slide"
    }
   },
   "source": [
    "## Background && Parallax scrolling"
   ]
  },
  {
   "cell_type": "markdown",
   "metadata": {
    "slideshow": {
     "slide_type": "-"
    }
   },
   "source": [
    "Our game is not 2D. It's 2.5D!\n",
    "\n",
    "![](images/parallax_scroll.gif \"Parallel Scrolling\")"
   ]
  },
  {
   "cell_type": "markdown",
   "metadata": {
    "slideshow": {
     "slide_type": "slide"
    }
   },
   "source": [
    "# Control"
   ]
  },
  {
   "cell_type": "code",
   "execution_count": null,
   "metadata": {},
   "outputs": [],
   "source": [
    "    def handle_controls(self):\n",
    "        if window.getch() is KEY_SPACEBAR:\n",
    "            self.trex.jump()"
   ]
  },
  {
   "cell_type": "markdown",
   "metadata": {},
   "source": [
    "We tell the TRex to jump. The TRex will change its state and remember that it started to jump."
   ]
  },
  {
   "cell_type": "code",
   "execution_count": null,
   "metadata": {},
   "outputs": [],
   "source": [
    "class Trex:\n",
    "    #...\n",
    "    def jump(self):\n",
    "        self.jumping = True\n",
    "\n",
    "    def update(self):\n",
    "        self.frame = (self.frame + 1) % 2\n",
    "        if self.jumping:\n",
    "            jmp = [-3,-2,-1,0, 0,1,2,3]\n",
    "            self.y = self.y + jmp[self.jump_state]\n",
    "            self.jump_state += 1\n",
    "            if self.y >= GND_Y:\n",
    "                self.y = GND_Y\n",
    "                self.jumping = False\n",
    "                self.jump_state = 0"
   ]
  },
  {
   "cell_type": "markdown",
   "metadata": {
    "slideshow": {
     "slide_type": "slide"
    }
   },
   "source": [
    "# Scoring\n",
    "\n",
    "Scoring is one of the most important things with video games. In our game the scoring is easy, for every time frame the TRex survives the player will get 1 score. For every 100 score, the player gets 1 level up."
   ]
  },
  {
   "cell_type": "markdown",
   "metadata": {
    "slideshow": {
     "slide_type": "slide"
    }
   },
   "source": [
    "# Collision detection\n",
    "\n",
    "collision detection is quite often needed in all sorts of video games. Unless the game objects are on different layers, there's a chance two game objects bump into each other. The result might be one of the game objects dies, loses health, etc. Sometimes it also change the moving of the game objects, for example in a Pool game."
   ]
  },
  {
   "cell_type": "code",
   "execution_count": null,
   "metadata": {},
   "outputs": [],
   "source": [
    "class TRexGame:\n",
    "    def check_collision(self):\n",
    "        return self.trex.check_collision(self.cacti.get_first_pos())\n",
    "\n",
    "class TRex:\n",
    "    def check_collision(self, object_pos):\n",
    "        if (abs(object_pos[1]-self.x-4)<3) and (abs(object_pos[0]-self.y)<2):\n",
    "            return True\n",
    "        return False"
   ]
  },
  {
   "cell_type": "markdown",
   "metadata": {
    "slideshow": {
     "slide_type": "slide"
    }
   },
   "source": [
    "# Your Task\n",
    "\n",
    "Add pterodactyls (birds) to the game.\n",
    "\n",
    "The pterodactyls:\n",
    "\n",
    "* Like the cacti, appear randomly from the right side of the screen.\n",
    "* Some pterodactyls fly high and some fly low. They don't change their altitude.\n",
    "* Collision with the pterodactyl will kill TRex\n",
    "* TRex should be able to duck (with the `down` key) to avoid the high flying pterodactyl"
   ]
  },
  {
   "cell_type": "code",
   "execution_count": null,
   "metadata": {},
   "outputs": [],
   "source": []
  }
 ],
 "metadata": {
  "celltoolbar": "Slideshow",
  "kernelspec": {
   "display_name": "Python 3",
   "language": "python",
   "name": "python3"
  },
  "language_info": {
   "codemirror_mode": {
    "name": "ipython",
    "version": 3
   },
   "file_extension": ".py",
   "mimetype": "text/x-python",
   "name": "python",
   "nbconvert_exporter": "python",
   "pygments_lexer": "ipython3",
   "version": "3.7.6"
  }
 },
 "nbformat": 4,
 "nbformat_minor": 2
}
