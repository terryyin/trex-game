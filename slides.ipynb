{
 "cells": [
  {
   "cell_type": "markdown",
   "metadata": {
    "slideshow": {
     "slide_type": "slide"
    }
   },
   "source": [
    "# Build a \"no internet\" TRex Game\n",
    "\n",
    "![](images/dino-game.png \"Dino\")"
   ]
  },
  {
   "cell_type": "markdown",
   "metadata": {
    "slideshow": {
     "slide_type": "slide"
    }
   },
   "source": [
    "# Define the game\n",
    "\n",
    "A 2D, Side-scrolling, infinite, 1 key control video game. It has two scenes, game and game end."
   ]
  },
  {
   "cell_type": "markdown",
   "metadata": {
    "slideshow": {
     "slide_type": "slide"
    }
   },
   "source": [
    "# Game Loop"
   ]
  },
  {
   "cell_type": "markdown",
   "metadata": {},
   "source": [
    "The game may have multiple round. At the end of game, player can press 'ESC' to quit the game or 'Enter' to do another game."
   ]
  },
  {
   "cell_type": "code",
   "execution_count": null,
   "metadata": {},
   "outputs": [],
   "source": [
    "if __name__ == '__main__':\n",
    "    # setup the screen ....\n",
    "    \n",
    "    while(True):\n",
    "        main_game = TRexGame(window)\n",
    "        main_game.start()\n",
    "        if not main_game.should_continue():\n",
    "            break"
   ]
  },
  {
   "cell_type": "code",
   "execution_count": null,
   "metadata": {
    "slideshow": {
     "slide_type": "slide"
    }
   },
   "outputs": [],
   "source": [
    "    def should_continue(self):\n",
    "        self.window.clear()\n",
    "        self.window.border(NO_BORDER)\n",
    "        self.draw_at(10, 27, [\n",
    "            \"  ___   _   __  __ ___    _____   _____ ___ \",\n",
    "            \" / __| /_\\ |  \\/  | __|  / _ \\ \\ / / __| _ \\\\\",\n",
    "            \"| (_ |/ _ \\| |\\/| | _|  | (_) \\ V /| _||   /\",\n",
    "            \" \\___/_/ \\_\\_|  |_|___|  \\___/ \\_/ |___|_|_\\\\\",\n",
    "            \"\",\n",
    "            \"             FINAL_SCORE : \"+str(self.score),\n",
    "            \"\",\n",
    "            \"Press 'Enter' Key to Restart or 'ESC' to Quit\"\n",
    "        ])\n",
    "        while(True):\n",
    "            key_event = self.window.getch()\n",
    "            if key_event is KEY_ESC:\n",
    "                return False\n",
    "            elif key_event is KEY_ENTER:\n",
    "                return True"
   ]
  },
  {
   "cell_type": "markdown",
   "metadata": {
    "slideshow": {
     "slide_type": "slide"
    }
   },
   "source": [
    "# Graphic"
   ]
  },
  {
   "cell_type": "markdown",
   "metadata": {
    "slideshow": {
     "slide_type": "slide"
    }
   },
   "source": [
    "## FPS - Frame Per Second\n",
    "\n",
    "FPS means how many images (frames) the computer can render. Higher FPS makes the game feel more real, but it needs more CPU power. \n",
    "\n",
    "From the code in the `TRexGame::start` method, can you tell what is our game's FPS?"
   ]
  },
  {
   "cell_type": "code",
   "execution_count": null,
   "metadata": {},
   "outputs": [],
   "source": [
    "    def start(self, window):\n",
    "        while(not self.is_end_of_game()):\n",
    "            self.handle_controls()\n",
    "            self.update_all()\n",
    "            self.draw_all()\n",
    "            sleep(0.06)\n",
    "        sleep(2)\n",
    "        return self.score"
   ]
  },
  {
   "cell_type": "markdown",
   "metadata": {
    "slideshow": {
     "slide_type": "slide"
    }
   },
   "source": [
    "## Sprites / Actors / Game Objects\n",
    "\n",
    "![](images/sprites.png)"
   ]
  },
  {
   "cell_type": "code",
   "execution_count": null,
   "metadata": {},
   "outputs": [],
   "source": [
    "    def draw_all(self):\n",
    "        window.clear()\n",
    "        self.cloud.draw()\n",
    "        self.ground.draw()\n",
    "        self.trex.draw()\n",
    "        self.draw_score()"
   ]
  },
  {
   "cell_type": "markdown",
   "metadata": {},
   "source": [
    "## Animation"
   ]
  },
  {
   "cell_type": "markdown",
   "metadata": {
    "slideshow": {
     "slide_type": "slide"
    }
   },
   "source": [
    "## Background"
   ]
  },
  {
   "cell_type": "markdown",
   "metadata": {
    "slideshow": {
     "slide_type": "slide"
    }
   },
   "source": [
    "### Parallax scrolling\n",
    "\n",
    "![](images/parallax_scroll.gif \"Parallel Scrolling\")"
   ]
  },
  {
   "cell_type": "markdown",
   "metadata": {},
   "source": [
    "# Control"
   ]
  },
  {
   "cell_type": "markdown",
   "metadata": {},
   "source": [
    "# Scoring"
   ]
  },
  {
   "cell_type": "markdown",
   "metadata": {},
   "source": [
    "# Collision detection "
   ]
  },
  {
   "cell_type": "markdown",
   "metadata": {},
   "source": [
    "# Game Plan\n",
    "\n",
    "## Name:\n",
    "## Abstract\n",
    "\n",
    "> .\n",
    ">\n",
    "> .\n",
    "\n",
    "\n",
    "## Game Flow\n",
    "\n",
    "> .\n",
    ">\n",
    "> .\n",
    "\n",
    "## Graphics & Game Objects\n",
    "\n",
    "### Sprites / Actors / Game Objects\n",
    "\n",
    "> .\n",
    ">\n",
    "> .\n",
    "\n",
    "### Background\n",
    "\n",
    "> .\n",
    ">\n",
    "> .\n",
    "\n",
    "## Scoring\n",
    "\n",
    "## Game Screens\n",
    "\n",
    "\n",
    "## Controls\n",
    "\n"
   ]
  },
  {
   "cell_type": "code",
   "execution_count": null,
   "metadata": {},
   "outputs": [],
   "source": []
  }
 ],
 "metadata": {
  "celltoolbar": "Slideshow",
  "kernelspec": {
   "display_name": "Python 3",
   "language": "python",
   "name": "python3"
  },
  "language_info": {
   "codemirror_mode": {
    "name": "ipython",
    "version": 3
   },
   "file_extension": ".py",
   "mimetype": "text/x-python",
   "name": "python",
   "nbconvert_exporter": "python",
   "pygments_lexer": "ipython3",
   "version": "3.7.6"
  }
 },
 "nbformat": 4,
 "nbformat_minor": 2
}
